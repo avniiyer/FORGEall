{
  "cells": [
    {
      "cell_type": "code",
      "execution_count": null,
      "metadata": {
        "id": "QpXjJq-Vk73g"
      },
      "outputs": [],
      "source": [
        "#!pip install GPUtil\n",
        "#!pip list | grep -E 'scikit-learn|xgboost'\n",
        "#!pip install --upgrade scikit-learn"
      ]
    },
    {
      "cell_type": "code",
      "source": [
        "!pip install xgboost\n",
        "!pip install --upgrade tensorflow\n",
        "!pip install pytz\n",
        "!pip install shap"
      ],
      "metadata": {
        "id": "-vrKNBvlROKa",
        "colab": {
          "base_uri": "https://localhost:8080/"
        },
        "outputId": "bfd0698c-c8ab-4a09-8052-651efe0ef9e0"
      },
      "execution_count": 2,
      "outputs": [
        {
          "output_type": "stream",
          "name": "stdout",
          "text": [
            "Collecting xgboost\n",
            "  Downloading xgboost-2.1.4-py3-none-manylinux_2_28_x86_64.whl.metadata (2.1 kB)\n",
            "Requirement already satisfied: numpy in /usr/local/lib/python3.11/dist-packages (from xgboost) (1.26.4)\n",
            "Collecting nvidia-nccl-cu12 (from xgboost)\n",
            "  Downloading nvidia_nccl_cu12-2.25.1-py3-none-manylinux2014_x86_64.manylinux_2_17_x86_64.whl.metadata (1.8 kB)\n",
            "Requirement already satisfied: scipy in /usr/local/lib/python3.11/dist-packages (from xgboost) (1.13.1)\n",
            "Downloading xgboost-2.1.4-py3-none-manylinux_2_28_x86_64.whl (223.6 MB)\n",
            "\u001b[2K   \u001b[90m━━━━━━━━━━━━━━━━━━━━━━━━━━━━━━━━━━━━━━━━\u001b[0m \u001b[32m223.6/223.6 MB\u001b[0m \u001b[31m1.8 MB/s\u001b[0m eta \u001b[36m0:00:00\u001b[0m\n",
            "\u001b[?25hDownloading nvidia_nccl_cu12-2.25.1-py3-none-manylinux2014_x86_64.manylinux_2_17_x86_64.whl (201.4 MB)\n",
            "\u001b[2K   \u001b[90m━━━━━━━━━━━━━━━━━━━━━━━━━━━━━━━━━━━━━━━━\u001b[0m \u001b[32m201.4/201.4 MB\u001b[0m \u001b[31m1.9 MB/s\u001b[0m eta \u001b[36m0:00:00\u001b[0m\n",
            "\u001b[?25hInstalling collected packages: nvidia-nccl-cu12, xgboost\n",
            "Successfully installed nvidia-nccl-cu12-2.25.1 xgboost-2.1.4\n",
            "Requirement already satisfied: tensorflow in /usr/local/lib/python3.11/dist-packages (2.18.0)\n",
            "Requirement already satisfied: absl-py>=1.0.0 in /usr/local/lib/python3.11/dist-packages (from tensorflow) (1.4.0)\n",
            "Requirement already satisfied: astunparse>=1.6.0 in /usr/local/lib/python3.11/dist-packages (from tensorflow) (1.6.3)\n",
            "Requirement already satisfied: flatbuffers>=24.3.25 in /usr/local/lib/python3.11/dist-packages (from tensorflow) (25.2.10)\n",
            "Requirement already satisfied: gast!=0.5.0,!=0.5.1,!=0.5.2,>=0.2.1 in /usr/local/lib/python3.11/dist-packages (from tensorflow) (0.6.0)\n",
            "Requirement already satisfied: google-pasta>=0.1.1 in /usr/local/lib/python3.11/dist-packages (from tensorflow) (0.2.0)\n",
            "Requirement already satisfied: libclang>=13.0.0 in /usr/local/lib/python3.11/dist-packages (from tensorflow) (18.1.1)\n",
            "Requirement already satisfied: opt-einsum>=2.3.2 in /usr/local/lib/python3.11/dist-packages (from tensorflow) (3.4.0)\n",
            "Requirement already satisfied: packaging in /usr/local/lib/python3.11/dist-packages (from tensorflow) (24.2)\n",
            "Requirement already satisfied: protobuf!=4.21.0,!=4.21.1,!=4.21.2,!=4.21.3,!=4.21.4,!=4.21.5,<6.0.0dev,>=3.20.3 in /usr/local/lib/python3.11/dist-packages (from tensorflow) (5.29.3)\n",
            "Requirement already satisfied: requests<3,>=2.21.0 in /usr/local/lib/python3.11/dist-packages (from tensorflow) (2.32.3)\n",
            "Requirement already satisfied: setuptools in /usr/local/lib/python3.11/dist-packages (from tensorflow) (75.1.0)\n",
            "Requirement already satisfied: six>=1.12.0 in /usr/local/lib/python3.11/dist-packages (from tensorflow) (1.17.0)\n",
            "Requirement already satisfied: termcolor>=1.1.0 in /usr/local/lib/python3.11/dist-packages (from tensorflow) (2.5.0)\n",
            "Requirement already satisfied: typing-extensions>=3.6.6 in /usr/local/lib/python3.11/dist-packages (from tensorflow) (4.12.2)\n",
            "Requirement already satisfied: wrapt>=1.11.0 in /usr/local/lib/python3.11/dist-packages (from tensorflow) (1.17.2)\n",
            "Requirement already satisfied: grpcio<2.0,>=1.24.3 in /usr/local/lib/python3.11/dist-packages (from tensorflow) (1.70.0)\n",
            "Requirement already satisfied: tensorboard<2.19,>=2.18 in /usr/local/lib/python3.11/dist-packages (from tensorflow) (2.18.0)\n",
            "Requirement already satisfied: keras>=3.5.0 in /usr/local/lib/python3.11/dist-packages (from tensorflow) (3.8.0)\n",
            "Requirement already satisfied: numpy<2.1.0,>=1.26.0 in /usr/local/lib/python3.11/dist-packages (from tensorflow) (1.26.4)\n",
            "Requirement already satisfied: h5py>=3.11.0 in /usr/local/lib/python3.11/dist-packages (from tensorflow) (3.13.0)\n",
            "Requirement already satisfied: ml-dtypes<0.5.0,>=0.4.0 in /usr/local/lib/python3.11/dist-packages (from tensorflow) (0.4.1)\n",
            "Requirement already satisfied: tensorflow-io-gcs-filesystem>=0.23.1 in /usr/local/lib/python3.11/dist-packages (from tensorflow) (0.37.1)\n",
            "Requirement already satisfied: wheel<1.0,>=0.23.0 in /usr/local/lib/python3.11/dist-packages (from astunparse>=1.6.0->tensorflow) (0.45.1)\n",
            "Requirement already satisfied: rich in /usr/local/lib/python3.11/dist-packages (from keras>=3.5.0->tensorflow) (13.9.4)\n",
            "Requirement already satisfied: namex in /usr/local/lib/python3.11/dist-packages (from keras>=3.5.0->tensorflow) (0.0.8)\n",
            "Requirement already satisfied: optree in /usr/local/lib/python3.11/dist-packages (from keras>=3.5.0->tensorflow) (0.14.0)\n",
            "Requirement already satisfied: charset-normalizer<4,>=2 in /usr/local/lib/python3.11/dist-packages (from requests<3,>=2.21.0->tensorflow) (3.4.1)\n",
            "Requirement already satisfied: idna<4,>=2.5 in /usr/local/lib/python3.11/dist-packages (from requests<3,>=2.21.0->tensorflow) (3.10)\n",
            "Requirement already satisfied: urllib3<3,>=1.21.1 in /usr/local/lib/python3.11/dist-packages (from requests<3,>=2.21.0->tensorflow) (2.3.0)\n",
            "Requirement already satisfied: certifi>=2017.4.17 in /usr/local/lib/python3.11/dist-packages (from requests<3,>=2.21.0->tensorflow) (2025.1.31)\n",
            "Requirement already satisfied: markdown>=2.6.8 in /usr/local/lib/python3.11/dist-packages (from tensorboard<2.19,>=2.18->tensorflow) (3.7)\n",
            "Requirement already satisfied: tensorboard-data-server<0.8.0,>=0.7.0 in /usr/local/lib/python3.11/dist-packages (from tensorboard<2.19,>=2.18->tensorflow) (0.7.2)\n",
            "Requirement already satisfied: werkzeug>=1.0.1 in /usr/local/lib/python3.11/dist-packages (from tensorboard<2.19,>=2.18->tensorflow) (3.1.3)\n",
            "Requirement already satisfied: MarkupSafe>=2.1.1 in /usr/local/lib/python3.11/dist-packages (from werkzeug>=1.0.1->tensorboard<2.19,>=2.18->tensorflow) (3.0.2)\n",
            "Requirement already satisfied: markdown-it-py>=2.2.0 in /usr/local/lib/python3.11/dist-packages (from rich->keras>=3.5.0->tensorflow) (3.0.0)\n",
            "Requirement already satisfied: pygments<3.0.0,>=2.13.0 in /usr/local/lib/python3.11/dist-packages (from rich->keras>=3.5.0->tensorflow) (2.19.1)\n",
            "Requirement already satisfied: mdurl~=0.1 in /usr/local/lib/python3.11/dist-packages (from markdown-it-py>=2.2.0->rich->keras>=3.5.0->tensorflow) (0.1.2)\n",
            "Requirement already satisfied: pytz in /usr/local/lib/python3.11/dist-packages (2025.1)\n",
            "Collecting shap\n",
            "  Downloading shap-0.47.0-cp311-cp311-manylinux_2_17_x86_64.manylinux2014_x86_64.whl.metadata (24 kB)\n",
            "Requirement already satisfied: numpy in /usr/local/lib/python3.11/dist-packages (from shap) (1.26.4)\n",
            "Requirement already satisfied: scipy in /usr/local/lib/python3.11/dist-packages (from shap) (1.13.1)\n",
            "Requirement already satisfied: scikit-learn in /usr/local/lib/python3.11/dist-packages (from shap) (1.6.1)\n",
            "Requirement already satisfied: pandas in /usr/local/lib/python3.11/dist-packages (from shap) (2.2.2)\n",
            "Requirement already satisfied: tqdm>=4.27.0 in /usr/local/lib/python3.11/dist-packages (from shap) (4.67.1)\n",
            "Requirement already satisfied: packaging>20.9 in /usr/local/lib/python3.11/dist-packages (from shap) (24.2)\n",
            "Collecting slicer==0.0.8 (from shap)\n",
            "  Downloading slicer-0.0.8-py3-none-any.whl.metadata (4.0 kB)\n",
            "Requirement already satisfied: numba>=0.54 in /usr/local/lib/python3.11/dist-packages (from shap) (0.61.0)\n",
            "Requirement already satisfied: cloudpickle in /usr/local/lib/python3.11/dist-packages (from shap) (3.1.1)\n",
            "Requirement already satisfied: typing-extensions in /usr/local/lib/python3.11/dist-packages (from shap) (4.12.2)\n",
            "Requirement already satisfied: llvmlite<0.45,>=0.44.0dev0 in /usr/local/lib/python3.11/dist-packages (from numba>=0.54->shap) (0.44.0)\n",
            "Requirement already satisfied: python-dateutil>=2.8.2 in /usr/local/lib/python3.11/dist-packages (from pandas->shap) (2.9.0.post0)\n",
            "Requirement already satisfied: pytz>=2020.1 in /usr/local/lib/python3.11/dist-packages (from pandas->shap) (2025.1)\n",
            "Requirement already satisfied: tzdata>=2022.7 in /usr/local/lib/python3.11/dist-packages (from pandas->shap) (2025.1)\n",
            "Requirement already satisfied: joblib>=1.2.0 in /usr/local/lib/python3.11/dist-packages (from scikit-learn->shap) (1.4.2)\n",
            "Requirement already satisfied: threadpoolctl>=3.1.0 in /usr/local/lib/python3.11/dist-packages (from scikit-learn->shap) (3.5.0)\n",
            "Requirement already satisfied: six>=1.5 in /usr/local/lib/python3.11/dist-packages (from python-dateutil>=2.8.2->pandas->shap) (1.17.0)\n",
            "Downloading shap-0.47.0-cp311-cp311-manylinux_2_17_x86_64.manylinux2014_x86_64.whl (1.0 MB)\n",
            "\u001b[2K   \u001b[90m━━━━━━━━━━━━━━━━━━━━━━━━━━━━━━━━━━━━━━━━\u001b[0m \u001b[32m1.0/1.0 MB\u001b[0m \u001b[31m22.4 MB/s\u001b[0m eta \u001b[36m0:00:00\u001b[0m\n",
            "\u001b[?25hDownloading slicer-0.0.8-py3-none-any.whl (15 kB)\n",
            "Installing collected packages: slicer, shap\n",
            "Successfully installed shap-0.47.0 slicer-0.0.8\n"
          ]
        }
      ]
    },
    {
      "cell_type": "code",
      "source": [
        "import matplotlib.pyplot as plt\n",
        "import importlib\n",
        "import numpy as np\n",
        "import pandas as pd\n",
        "import tensorflow as tf\n",
        "from itertools import product\n",
        "from datetime import datetime\n",
        "from tensorflow import keras\n",
        "from sklearn.preprocessing import MinMaxScaler\n",
        "from sklearn.model_selection import train_test_split\n",
        "\n",
        "import forgeall_training_stats_to_csv_appender\n",
        "importlib.reload(forgeall_training_stats_to_csv_appender)\n",
        "from forgeall_training_stats_to_csv_appender import *\n",
        "\n",
        "import forgeall_timestamp_generator\n",
        "importlib.reload(forgeall_timestamp_generator)\n",
        "from forgeall_timestamp_generator import *\n",
        "\n",
        "import forgeall_data_prep\n",
        "importlib.reload(forgeall_data_prep)\n",
        "from forgeall_data_prep import *\n",
        "\n",
        "import forgeall_ssae_model_manager\n",
        "importlib.reload(forgeall_ssae_model_manager)\n",
        "from forgeall_ssae_model_manager import *\n",
        "\n",
        "import forgeall_ssae_model_inferencers\n",
        "importlib.reload(forgeall_ssae_model_inferencers)\n",
        "from forgeall_ssae_model_inferencers import *\n",
        "\n",
        "import forgeall_ssae_model_cross_validator\n",
        "importlib.reload(forgeall_ssae_model_cross_validator)\n",
        "from forgeall_ssae_model_cross_validator import *\n",
        "\n",
        "import forgeall_ssae_model_explainers\n",
        "importlib.reload(forgeall_ssae_model_explainers)\n",
        "from forgeall_ssae_model_explainers import *"
      ],
      "metadata": {
        "id": "Go-d4lf3WE-z"
      },
      "execution_count": 3,
      "outputs": []
    },
    {
      "cell_type": "markdown",
      "source": [
        "# Data prep using feature engineered data\n",
        "Methods in: forgeall_data_prep.py"
      ],
      "metadata": {
        "id": "A-8ph2h2dsC2"
      }
    },
    {
      "cell_type": "code",
      "source": [
        "file_path = 'OpenCalphad_w_melting_point - A.csv'\n",
        "fa_print_current_timestamp_in_pst()\n",
        "# Set random seed for reproducibility\n",
        "np.random.seed(10)\n",
        "\n",
        "(train_data,\n",
        " test_data,\n",
        " train_labels,\n",
        " test_labels) = fa_prep_hea_data(file_path)\n",
        "\n",
        "fa_print_current_timestamp_in_pst()"
      ],
      "metadata": {
        "id": "m0deG_zXkkkY",
        "colab": {
          "base_uri": "https://localhost:8080/"
        },
        "outputId": "77282908-c780-44d4-e562-7cebf34b4860"
      },
      "execution_count": 5,
      "outputs": [
        {
          "output_type": "stream",
          "name": "stdout",
          "text": [
            "Current Timestamp in PST: 2025-03-05 13:13:43 PST\n",
            "YS(Mpa)                  1.000000\n",
            "R(%)                     0.365258\n",
            "Hom_Temp(K)              0.171878\n",
            "phase_fraction_fcc       0.159452\n",
            "Ni(at%)                  0.139874\n",
            "Co(at%)                  0.117739\n",
            "CR(%)                    0.116685\n",
            "Cr(at%)                  0.093100\n",
            "Mo(at%)                  0.082522\n",
            "(0-T)*Entropy            0.071566\n",
            "Cu(at%)                  0.039072\n",
            "V(at%)                   0.037021\n",
            "melting point(C)         0.009772\n",
            "C(at%)                   0.003877\n",
            "Al(at%)                  0.000190\n",
            "second_phase_fraction   -0.002055\n",
            "Anneal_Time(h)          -0.013311\n",
            "H_RT_FCC                -0.048790\n",
            "grain(um)               -0.054789\n",
            "G_RT_FCC                -0.067198\n",
            "Enthalpy_FCC            -0.067310\n",
            "Config_Entropy          -0.071566\n",
            "Mn(at%)                 -0.109061\n",
            "Fe(at%)                 -0.156773\n",
            "phase_fraction_bcc      -0.161591\n",
            "Anneal_Temp(K)          -0.323438\n",
            "Name: YS(Mpa), dtype: float64\n",
            "NaN counts per column:\n",
            "C(wt)                    0\n",
            "Al(wt)                   0\n",
            "V(wt)                    0\n",
            "Cr(wt)                   0\n",
            "Mn(wt)                   0\n",
            "Fe(wt)                   0\n",
            "Co(wt)                   0\n",
            "Ni(wt)                   0\n",
            "Cu(wt)                   0\n",
            "Mo(wt)                   0\n",
            "Config_Entropy           0\n",
            "(0-T)*Entropy            0\n",
            "Enthalpy_FCC             0\n",
            "Hom_Temp(K)              0\n",
            "R                        0\n",
            "Anneal_Temp(K)           0\n",
            "Anneal_Time(h)           0\n",
            "grain(um)                0\n",
            "melting point(C)         0\n",
            "G_RT_FCC                 0\n",
            "H_RT_FCC                 0\n",
            "phase_fraction_fcc       0\n",
            "phase_fraction_bcc       0\n",
            "second_phase_fraction    0\n",
            "CR                       0\n",
            "dtype: int64\n",
            "\n",
            "Columns with NaN values:\n",
            "[]\n",
            "Training data shape: (3724, 25)\n",
            "Test data shape: (932, 25)\n",
            "Current Timestamp in PST: 2025-03-05 13:13:43 PST\n"
          ]
        }
      ]
    },
    {
      "cell_type": "markdown",
      "source": [
        "#TRAINING: the SSAE model.\n",
        "Methods in: forgeall_ssae_model_manager.py"
      ],
      "metadata": {
        "id": "1TRNgJd8bo5X"
      }
    },
    {
      "cell_type": "code",
      "execution_count": null,
      "metadata": {
        "id": "PY5wKKjdmJ9u"
      },
      "outputs": [],
      "source": [
        "fa_print_current_timestamp_in_pst()\n",
        "\n",
        "best_result = fa_train_ssae_model(train_data,\n",
        "                                  test_data,\n",
        "                                  train_labels,\n",
        "                                  test_labels,\n",
        "                                  loss_weight_divergence = 0.6,\n",
        "                                  loss_weight_sparse = 0.4)\n",
        "\n",
        "fa_print_current_timestamp_in_pst()\n"
      ]
    },
    {
      "cell_type": "markdown",
      "metadata": {
        "id": "iIqrGx3TjJZt"
      },
      "source": [
        "###Use the best hyperparam's found from the grid searched model training, fit the data and save the model as a disk file\n",
        "Methods in: forgeall_ssae_model_manager.py"
      ]
    },
    {
      "cell_type": "code",
      "execution_count": null,
      "metadata": {
        "id": "5yaT8qrNxr_8"
      },
      "outputs": [],
      "source": [
        "# Use the strategy scope\n",
        "fa_print_current_timestamp_in_pst()\n",
        "# Create a timestamp in MMDDYYYY_HH_MM_SS format\n",
        "timestamp = datetime.now().strftime(\"%m%d%Y_%H_%M_%S\")\n",
        "model_filename_to_save = f\"{timestamp}_ssae_model.keras\"\n",
        "\n",
        "\n",
        "fa_create_fit_and_save_model_to_file( model_filename_to_save,\n",
        "                                      best_result,\n",
        "                                      train_data,\n",
        "                                      test_data,\n",
        "                                      train_labels,\n",
        "                                      test_labels,\n",
        "                                      input_dim=25,\n",
        "                                      hidden_dim=int(best_result['hidden_dim']),\n",
        "                                      latent_dim=int(best_result['latent_dim']),\n",
        "                                      target_sparsity=best_result['target_sparsity']\n",
        "                                    )\n",
        "\n",
        "fa_print_current_timestamp_in_pst()\n",
        "\n"
      ]
    },
    {
      "cell_type": "markdown",
      "source": [
        "#ONCE the MODEL is trained and built, it is saved to a file. NO NEED to retrain. Simply load from file\n",
        "####Load the model from the file, print the models summary and derive the latent representations: latent_train and latent_test.\n",
        "Methods in: forgeall_ssae_model_manager.py\n",
        "\n",
        "\n"
      ],
      "metadata": {
        "id": "aONKJ7-aI3R0"
      }
    },
    {
      "cell_type": "code",
      "source": [
        "model_file = './sparse_autoencoder_model.keras'   # <------- CHANGE this filename to the suitable model file name\n",
        "\n",
        "fa_print_current_timestamp_in_pst()\n",
        "\n",
        "loaded_model, model_latent_layer_encoding = fa_load_model_from_file(model_file)\n",
        "latent_train, latent_train_scaled         = fa_get_latent_prediction_vectors_from_model(model_latent_layer_encoding, train_data)\n",
        "latent_test, latent_test_scaled           = fa_get_latent_prediction_vectors_from_model(model_latent_layer_encoding, test_data)\n",
        "\n",
        "fa_print_current_timestamp_in_pst()\n",
        "\n"
      ],
      "metadata": {
        "id": "chtfDyu7Ggz0",
        "colab": {
          "base_uri": "https://localhost:8080/",
          "height": 438
        },
        "outputId": "16f44cc6-3796-4d06-b9be-743fab49c3df"
      },
      "execution_count": 14,
      "outputs": [
        {
          "output_type": "stream",
          "name": "stdout",
          "text": [
            "Current Timestamp in PST: 2025-03-05 13:26:18 PST\n"
          ]
        },
        {
          "output_type": "display_data",
          "data": {
            "text/plain": [
              "\u001b[1mModel: \"functional_2\"\u001b[0m\n"
            ],
            "text/html": [
              "<pre style=\"white-space:pre;overflow-x:auto;line-height:normal;font-family:Menlo,'DejaVu Sans Mono',consolas,'Courier New',monospace\"><span style=\"font-weight: bold\">Model: \"functional_2\"</span>\n",
              "</pre>\n"
            ]
          },
          "metadata": {}
        },
        {
          "output_type": "display_data",
          "data": {
            "text/plain": [
              "┏━━━━━━━━━━━━━━━━━━━━━━━━━━━┳━━━━━━━━━━━━━━━━━━━━━━━━┳━━━━━━━━━━━━━━━━┳━━━━━━━━━━━━━━━━━━━━━━━━┓\n",
              "┃\u001b[1m \u001b[0m\u001b[1mLayer (type)             \u001b[0m\u001b[1m \u001b[0m┃\u001b[1m \u001b[0m\u001b[1mOutput Shape          \u001b[0m\u001b[1m \u001b[0m┃\u001b[1m \u001b[0m\u001b[1m       Param #\u001b[0m\u001b[1m \u001b[0m┃\u001b[1m \u001b[0m\u001b[1mConnected to          \u001b[0m\u001b[1m \u001b[0m┃\n",
              "┡━━━━━━━━━━━━━━━━━━━━━━━━━━━╇━━━━━━━━━━━━━━━━━━━━━━━━╇━━━━━━━━━━━━━━━━╇━━━━━━━━━━━━━━━━━━━━━━━━┩\n",
              "│ input_layer_1             │ (\u001b[38;5;45mNone\u001b[0m, \u001b[38;5;34m25\u001b[0m)             │              \u001b[38;5;34m0\u001b[0m │ -                      │\n",
              "│ (\u001b[38;5;33mInputLayer\u001b[0m)              │                        │                │                        │\n",
              "├───────────────────────────┼────────────────────────┼────────────────┼────────────────────────┤\n",
              "│ dense_4 (\u001b[38;5;33mDense\u001b[0m)           │ (\u001b[38;5;45mNone\u001b[0m, \u001b[38;5;34m16\u001b[0m)             │            \u001b[38;5;34m416\u001b[0m │ input_layer_1[\u001b[38;5;34m0\u001b[0m][\u001b[38;5;34m0\u001b[0m]    │\n",
              "├───────────────────────────┼────────────────────────┼────────────────┼────────────────────────┤\n",
              "│ latent_layer (\u001b[38;5;33mDense\u001b[0m)      │ (\u001b[38;5;45mNone\u001b[0m, \u001b[38;5;34m6\u001b[0m)              │            \u001b[38;5;34m102\u001b[0m │ dense_4[\u001b[38;5;34m0\u001b[0m][\u001b[38;5;34m0\u001b[0m]          │\n",
              "├───────────────────────────┼────────────────────────┼────────────────┼────────────────────────┤\n",
              "│ dense_5 (\u001b[38;5;33mDense\u001b[0m)           │ (\u001b[38;5;45mNone\u001b[0m, \u001b[38;5;34m16\u001b[0m)             │            \u001b[38;5;34m112\u001b[0m │ latent_layer[\u001b[38;5;34m0\u001b[0m][\u001b[38;5;34m0\u001b[0m]     │\n",
              "├───────────────────────────┼────────────────────────┼────────────────┼────────────────────────┤\n",
              "│ dense_6 (\u001b[38;5;33mDense\u001b[0m)           │ (\u001b[38;5;45mNone\u001b[0m, \u001b[38;5;34m25\u001b[0m)             │            \u001b[38;5;34m425\u001b[0m │ dense_5[\u001b[38;5;34m0\u001b[0m][\u001b[38;5;34m0\u001b[0m]          │\n",
              "├───────────────────────────┼────────────────────────┼────────────────┼────────────────────────┤\n",
              "│ dense_7 (\u001b[38;5;33mDense\u001b[0m)           │ (\u001b[38;5;45mNone\u001b[0m, \u001b[38;5;34m1\u001b[0m)              │              \u001b[38;5;34m7\u001b[0m │ latent_layer[\u001b[38;5;34m0\u001b[0m][\u001b[38;5;34m0\u001b[0m]     │\n",
              "└───────────────────────────┴────────────────────────┴────────────────┴────────────────────────┘\n"
            ],
            "text/html": [
              "<pre style=\"white-space:pre;overflow-x:auto;line-height:normal;font-family:Menlo,'DejaVu Sans Mono',consolas,'Courier New',monospace\">┏━━━━━━━━━━━━━━━━━━━━━━━━━━━┳━━━━━━━━━━━━━━━━━━━━━━━━┳━━━━━━━━━━━━━━━━┳━━━━━━━━━━━━━━━━━━━━━━━━┓\n",
              "┃<span style=\"font-weight: bold\"> Layer (type)              </span>┃<span style=\"font-weight: bold\"> Output Shape           </span>┃<span style=\"font-weight: bold\">        Param # </span>┃<span style=\"font-weight: bold\"> Connected to           </span>┃\n",
              "┡━━━━━━━━━━━━━━━━━━━━━━━━━━━╇━━━━━━━━━━━━━━━━━━━━━━━━╇━━━━━━━━━━━━━━━━╇━━━━━━━━━━━━━━━━━━━━━━━━┩\n",
              "│ input_layer_1             │ (<span style=\"color: #00d7ff; text-decoration-color: #00d7ff\">None</span>, <span style=\"color: #00af00; text-decoration-color: #00af00\">25</span>)             │              <span style=\"color: #00af00; text-decoration-color: #00af00\">0</span> │ -                      │\n",
              "│ (<span style=\"color: #0087ff; text-decoration-color: #0087ff\">InputLayer</span>)              │                        │                │                        │\n",
              "├───────────────────────────┼────────────────────────┼────────────────┼────────────────────────┤\n",
              "│ dense_4 (<span style=\"color: #0087ff; text-decoration-color: #0087ff\">Dense</span>)           │ (<span style=\"color: #00d7ff; text-decoration-color: #00d7ff\">None</span>, <span style=\"color: #00af00; text-decoration-color: #00af00\">16</span>)             │            <span style=\"color: #00af00; text-decoration-color: #00af00\">416</span> │ input_layer_1[<span style=\"color: #00af00; text-decoration-color: #00af00\">0</span>][<span style=\"color: #00af00; text-decoration-color: #00af00\">0</span>]    │\n",
              "├───────────────────────────┼────────────────────────┼────────────────┼────────────────────────┤\n",
              "│ latent_layer (<span style=\"color: #0087ff; text-decoration-color: #0087ff\">Dense</span>)      │ (<span style=\"color: #00d7ff; text-decoration-color: #00d7ff\">None</span>, <span style=\"color: #00af00; text-decoration-color: #00af00\">6</span>)              │            <span style=\"color: #00af00; text-decoration-color: #00af00\">102</span> │ dense_4[<span style=\"color: #00af00; text-decoration-color: #00af00\">0</span>][<span style=\"color: #00af00; text-decoration-color: #00af00\">0</span>]          │\n",
              "├───────────────────────────┼────────────────────────┼────────────────┼────────────────────────┤\n",
              "│ dense_5 (<span style=\"color: #0087ff; text-decoration-color: #0087ff\">Dense</span>)           │ (<span style=\"color: #00d7ff; text-decoration-color: #00d7ff\">None</span>, <span style=\"color: #00af00; text-decoration-color: #00af00\">16</span>)             │            <span style=\"color: #00af00; text-decoration-color: #00af00\">112</span> │ latent_layer[<span style=\"color: #00af00; text-decoration-color: #00af00\">0</span>][<span style=\"color: #00af00; text-decoration-color: #00af00\">0</span>]     │\n",
              "├───────────────────────────┼────────────────────────┼────────────────┼────────────────────────┤\n",
              "│ dense_6 (<span style=\"color: #0087ff; text-decoration-color: #0087ff\">Dense</span>)           │ (<span style=\"color: #00d7ff; text-decoration-color: #00d7ff\">None</span>, <span style=\"color: #00af00; text-decoration-color: #00af00\">25</span>)             │            <span style=\"color: #00af00; text-decoration-color: #00af00\">425</span> │ dense_5[<span style=\"color: #00af00; text-decoration-color: #00af00\">0</span>][<span style=\"color: #00af00; text-decoration-color: #00af00\">0</span>]          │\n",
              "├───────────────────────────┼────────────────────────┼────────────────┼────────────────────────┤\n",
              "│ dense_7 (<span style=\"color: #0087ff; text-decoration-color: #0087ff\">Dense</span>)           │ (<span style=\"color: #00d7ff; text-decoration-color: #00d7ff\">None</span>, <span style=\"color: #00af00; text-decoration-color: #00af00\">1</span>)              │              <span style=\"color: #00af00; text-decoration-color: #00af00\">7</span> │ latent_layer[<span style=\"color: #00af00; text-decoration-color: #00af00\">0</span>][<span style=\"color: #00af00; text-decoration-color: #00af00\">0</span>]     │\n",
              "└───────────────────────────┴────────────────────────┴────────────────┴────────────────────────┘\n",
              "</pre>\n"
            ]
          },
          "metadata": {}
        },
        {
          "output_type": "display_data",
          "data": {
            "text/plain": [
              "\u001b[1m Total params: \u001b[0m\u001b[38;5;34m1,062\u001b[0m (4.15 KB)\n"
            ],
            "text/html": [
              "<pre style=\"white-space:pre;overflow-x:auto;line-height:normal;font-family:Menlo,'DejaVu Sans Mono',consolas,'Courier New',monospace\"><span style=\"font-weight: bold\"> Total params: </span><span style=\"color: #00af00; text-decoration-color: #00af00\">1,062</span> (4.15 KB)\n",
              "</pre>\n"
            ]
          },
          "metadata": {}
        },
        {
          "output_type": "display_data",
          "data": {
            "text/plain": [
              "\u001b[1m Trainable params: \u001b[0m\u001b[38;5;34m1,062\u001b[0m (4.15 KB)\n"
            ],
            "text/html": [
              "<pre style=\"white-space:pre;overflow-x:auto;line-height:normal;font-family:Menlo,'DejaVu Sans Mono',consolas,'Courier New',monospace\"><span style=\"font-weight: bold\"> Trainable params: </span><span style=\"color: #00af00; text-decoration-color: #00af00\">1,062</span> (4.15 KB)\n",
              "</pre>\n"
            ]
          },
          "metadata": {}
        },
        {
          "output_type": "display_data",
          "data": {
            "text/plain": [
              "\u001b[1m Non-trainable params: \u001b[0m\u001b[38;5;34m0\u001b[0m (0.00 B)\n"
            ],
            "text/html": [
              "<pre style=\"white-space:pre;overflow-x:auto;line-height:normal;font-family:Menlo,'DejaVu Sans Mono',consolas,'Courier New',monospace\"><span style=\"font-weight: bold\"> Non-trainable params: </span><span style=\"color: #00af00; text-decoration-color: #00af00\">0</span> (0.00 B)\n",
              "</pre>\n"
            ]
          },
          "metadata": {}
        },
        {
          "output_type": "stream",
          "name": "stdout",
          "text": [
            "\u001b[1m117/117\u001b[0m \u001b[32m━━━━━━━━━━━━━━━━━━━━\u001b[0m\u001b[37m\u001b[0m \u001b[1m0s\u001b[0m 2ms/step\n",
            "\u001b[1m30/30\u001b[0m \u001b[32m━━━━━━━━━━━━━━━━━━━━\u001b[0m\u001b[37m\u001b[0m \u001b[1m0s\u001b[0m 3ms/step \n",
            "Current Timestamp in PST: 2025-03-05 13:26:19 PST\n"
          ]
        }
      ]
    },
    {
      "cell_type": "markdown",
      "metadata": {
        "id": "5F8KerLOs86k"
      },
      "source": [
        "# INFERENCING: MAE's and R2's for the model.\n",
        "Methods in: forgeall_ssae_model_inferencers.py"
      ]
    },
    {
      "cell_type": "markdown",
      "metadata": {
        "id": "eZ1dWSPzsq0X"
      },
      "source": [
        "### K Nearest Neighbor (KNN) regressor with Grid search & feature importances"
      ]
    },
    {
      "cell_type": "code",
      "execution_count": 15,
      "metadata": {
        "id": "p11bFHGfZdQ_",
        "colab": {
          "base_uri": "https://localhost:8080/"
        },
        "outputId": "d1ac802b-111a-48cf-d022-5834e27d548a"
      },
      "outputs": [
        {
          "output_type": "stream",
          "name": "stdout",
          "text": [
            "Current Timestamp in PST: 2025-03-05 13:26:22 PST\n",
            "Best KNN Hyperparameters: {'algorithm': 'auto', 'metric': 'minkowski', 'n_neighbors': 9, 'p': 3, 'weights': 'distance'}\n",
            "\n",
            "Best KNN Regression Performance on Latent Test Data:\n",
            "MSE: 0.0026936154881580313\n",
            "RMSE: 0.05190005287240112\n",
            "MAE: 0.024834474245241923\n",
            "R²: 0.9490617361920328\n",
            "Current Timestamp in PST: 2025-03-05 13:26:40 PST\n"
          ]
        }
      ],
      "source": [
        "fa_print_current_timestamp_in_pst()\n",
        "(best_knn,\n",
        " knn_predictions_test) = fa_perform_k_nearest_neighbor_regression(latent_train_scaled,\n",
        "                                                                  latent_test_scaled,\n",
        "                                                                  train_labels,\n",
        "                                                                  test_labels)\n",
        "fa_print_current_timestamp_in_pst()\n",
        "\n",
        "#----------- Save the KNN model to a file for later use -------------------\n",
        "timestamp = datetime.now().strftime(\"%m%d%Y_%H_%M_%S\")\n",
        "scikit_regressor_model_filename_to_save = f\"{timestamp}_best_knn_model.pkl\"\n",
        "\n",
        "fa_save_scikit_regressed_model_to_file(best_knn, scikit_regressor_model_filename_to_save)\n"
      ]
    },
    {
      "cell_type": "markdown",
      "source": [
        "### XGBoost Regressor"
      ],
      "metadata": {
        "id": "aBrulBv35vh2"
      }
    },
    {
      "cell_type": "code",
      "source": [
        "fa_print_current_timestamp_in_pst()\n",
        "fa_perform_xgboost_regression (latent_train_scaled, latent_test_scaled, train_labels, test_labels)\n",
        "fa_print_current_timestamp_in_pst()"
      ],
      "metadata": {
        "id": "wehusju7MXaG"
      },
      "execution_count": null,
      "outputs": []
    },
    {
      "cell_type": "markdown",
      "source": [
        "### SVM Regressor"
      ],
      "metadata": {
        "id": "9g1-WwOYOgny"
      }
    },
    {
      "cell_type": "code",
      "source": [
        "fa_print_current_timestamp_in_pst()\n",
        "fa_perform_svm_regression(latent_train_scaled, latent_test_scaled, train_labels, test_labels)\n",
        "fa_print_current_timestamp_in_pst()\n"
      ],
      "metadata": {
        "id": "YeTQU5N6OcbJ"
      },
      "execution_count": null,
      "outputs": []
    },
    {
      "cell_type": "markdown",
      "source": [
        "### Vanilla KERAS Neural Net Regressor"
      ],
      "metadata": {
        "id": "pKs1w8nOQI0B"
      }
    },
    {
      "cell_type": "code",
      "source": [
        "fa_print_current_timestamp_in_pst()\n",
        "fa_perform_kerasnn_regression(latent_train_scaled, latent_test_scaled, train_labels, test_labels)\n",
        "fa_print_current_timestamp_in_pst()\n"
      ],
      "metadata": {
        "id": "xuXl5xEdTlrb"
      },
      "execution_count": null,
      "outputs": []
    },
    {
      "cell_type": "markdown",
      "source": [
        "# CROSS VALIDATION: Tests for over-fitting\n",
        "Methods in: forgeall_ssae_model_cross_validator.py"
      ],
      "metadata": {
        "id": "SIYDQEEqwW0b"
      }
    },
    {
      "cell_type": "code",
      "source": [
        "fa_print_current_timestamp_in_pst()\n",
        "fa_perform_ssae_model_cross_validations(best_knn, latent_train_scaled, train_labels)\n",
        "fa_print_current_timestamp_in_pst()"
      ],
      "metadata": {
        "id": "X_kORAzxLPOF"
      },
      "execution_count": null,
      "outputs": []
    },
    {
      "cell_type": "markdown",
      "source": [
        "# MODEL EXPLAINABILITY\n",
        "Methods in: forgeall_ssae_model_explainers.py"
      ],
      "metadata": {
        "id": "8C6IrYhy36Ie"
      }
    },
    {
      "cell_type": "markdown",
      "source": [
        "## Using feature correlations"
      ],
      "metadata": {
        "id": "RqnpHCcyYKT7"
      }
    },
    {
      "cell_type": "code",
      "source": [
        "fa_print_current_timestamp_in_pst()\n",
        "fa_explain_ssae_model_using_feature_correlations(best_knn, encoder_model, train_data, test_data, latent_train_scaled, latent_test_scaled, test_labels)\n",
        "fa_print_current_timestamp_in_pst()"
      ],
      "metadata": {
        "id": "KRSNHx0FYH6z"
      },
      "execution_count": null,
      "outputs": []
    },
    {
      "cell_type": "markdown",
      "source": [
        "## Another way to perform correlation analysis between original features and important latent features using SHAP"
      ],
      "metadata": {
        "id": "FP5FZ4xZ1ulX"
      }
    },
    {
      "cell_type": "code",
      "source": [
        "fa_print_current_timestamp_in_pst()\n",
        "fa_explain_ssae_model_using_shap(best_knn, encoder_model, train_data, test_data)\n",
        "fa_print_current_timestamp_in_pst()\n"
      ],
      "metadata": {
        "id": "foRod9IjIKTl"
      },
      "execution_count": null,
      "outputs": []
    }
  ],
  "metadata": {
    "colab": {
      "machine_shape": "hm",
      "provenance": [],
      "gpuType": "V5E1"
    },
    "kernelspec": {
      "display_name": "Python 3",
      "name": "python3"
    },
    "language_info": {
      "name": "python"
    },
    "accelerator": "TPU"
  },
  "nbformat": 4,
  "nbformat_minor": 0
}