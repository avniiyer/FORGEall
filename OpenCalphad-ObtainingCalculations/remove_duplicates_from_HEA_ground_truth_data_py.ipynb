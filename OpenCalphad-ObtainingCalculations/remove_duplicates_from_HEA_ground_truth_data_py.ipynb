{
  "nbformat": 4,
  "nbformat_minor": 0,
  "metadata": {
    "colab": {
      "provenance": []
    },
    "kernelspec": {
      "name": "python3",
      "display_name": "Python 3"
    },
    "language_info": {
      "name": "python"
    }
  },
  "cells": [
    {
      "cell_type": "code",
      "source": [
        "import pandas as pd\n",
        "import argparse\n",
        "import os\n",
        "from tqdm import tqdm\n",
        "\n",
        "def process_csv(input_file, output_file):\n",
        "    # Read the CSV file\n",
        "    try:\n",
        "        print(\"Reading input CSV...\")\n",
        "        data = pd.read_csv(input_file)\n",
        "    except Exception as e:\n",
        "        print(f\"Error reading the input CSV: {e}\")\n",
        "        return\n",
        "\n",
        "    print(\"Processing unique rows and counting duplicates...\")\n",
        "    # Use tqdm for progress indication\n",
        "    unique_data = (data.groupby(list(data.columns))\n",
        "                      .size()\n",
        "                      .reset_index(name='Duplicate_Count'))\n",
        "\n",
        "    # Display progress for each unique row (simulation)\n",
        "    for _ in tqdm(range(len(unique_data)), desc=\"Processing rows\"):\n",
        "        pass\n",
        "\n",
        "    # Save the result to a new CSV file\n",
        "    try:\n",
        "        print(\"Writing output CSV...\")\n",
        "        unique_data.to_csv(output_file, index=False)\n",
        "        print(f\"Unique rows with duplicate counts saved to {output_file}\")\n",
        "    except Exception as e:\n",
        "        print(f\"Error writing to the output CSV: {e}\")\n",
        "\n",
        "if __name__ == \"__main__\":\n",
        "    process_csv(\"./OpenCalphad-train-conditional-test-12-alcrcofeni-4k-rows.csv\", \"./OpenCalphad-train-conditional-test-12-alcrcofeni-4k-rows-DEDUP.csv\")\n"
      ],
      "metadata": {
        "colab": {
          "base_uri": "https://localhost:8080/"
        },
        "id": "AVtBLQr2CK8W",
        "outputId": "f20d767a-6210-4e5f-9ec9-8b71a1e780ef"
      },
      "execution_count": null,
      "outputs": [
        {
          "output_type": "stream",
          "name": "stdout",
          "text": [
            "Reading input CSV...\n",
            "Processing unique rows and counting duplicates...\n"
          ]
        },
        {
          "output_type": "stream",
          "name": "stderr",
          "text": [
            "Processing rows: 100%|██████████| 4092/4092 [00:00<00:00, 2675045.51it/s]"
          ]
        },
        {
          "output_type": "stream",
          "name": "stdout",
          "text": [
            "Writing output CSV...\n",
            "Unique rows with duplicate counts saved to ./OpenCalphad-train-conditional-test-12-alcrcofeni-4k-rows-DEDUP.csv\n"
          ]
        },
        {
          "output_type": "stream",
          "name": "stderr",
          "text": [
            "\n"
          ]
        }
      ]
    },
    {
      "cell_type": "markdown",
      "source": [
        "# New Section"
      ],
      "metadata": {
        "id": "g0X1vMWr0jVo"
      }
    },
    {
      "cell_type": "markdown",
      "source": [
        "# New Section"
      ],
      "metadata": {
        "id": "iCme2HgN0jyF"
      }
    },
    {
      "cell_type": "markdown",
      "source": [
        "# New Section"
      ],
      "metadata": {
        "id": "OHfKd0f30kJK"
      }
    }
  ]
}